{
 "cells": [
  {
   "cell_type": "markdown",
   "metadata": {},
   "source": [
    "# Insertion Sort - O(n^2)"
   ]
  },
  {
   "cell_type": "markdown",
   "metadata": {},
   "source": [
    "    A few notes on the algorithm:\n",
    "1. It is an incremental algorithm. This means it processes the input elements 1 by 1 and maintains the solution for elements processed so far\n",
    "2. It works like sorting cards in your hand\n",
    "3. Good for small arrays"
   ]
  },
  {
   "cell_type": "code",
   "execution_count": 1,
   "metadata": {},
   "outputs": [],
   "source": [
    "##Insertion Sort\n",
    "\n",
    "def insertion_sort(A):\n",
    "    \n",
    "    i = 0\n",
    "    j = 0\n",
    "    \n",
    "    for j in range(0, len(A)):\n",
    "        key = A[j]\n",
    "        i = j-1\n",
    "        \n",
    "        while i>=0 and A[i]>key:\n",
    "            A[i+1] = A[i]\n",
    "            i = i-1\n",
    "        \n",
    "        A[i+1] = key\n",
    "        \n",
    "    return A"
   ]
  },
  {
   "cell_type": "code",
   "execution_count": 14,
   "metadata": {},
   "outputs": [
    {
     "data": {
      "text/plain": [
       "[0, 1, 2, 22, 30, 33]"
      ]
     },
     "execution_count": 14,
     "metadata": {},
     "output_type": "execute_result"
    }
   ],
   "source": [
    "A = [30, 22, 33, 2, 1, 0]\n",
    "insertion_sort(A)"
   ]
  },
  {
   "cell_type": "markdown",
   "metadata": {},
   "source": [
    "# MergeSort - O(nlogn)\n",
    "Recursively splits the input into smaller parts until it is left with 1 element and arranges them after that "
   ]
  },
  {
   "cell_type": "code",
   "execution_count": 20,
   "metadata": {},
   "outputs": [],
   "source": [
    "# Merge-Sort O(nlogn)\n",
    "## 1. divide 'n conquer algo\n",
    "## 2. recursive\n",
    "## 3. recursively breaks the array into smaller ones and solves them until it is trivial => combines them sorted\n",
    "import math\n",
    "\n",
    "def merge_sort(arr):\n",
    "    \n",
    "    if len(arr) > 1:\n",
    "\n",
    "        n = len(arr)\n",
    "        midd = math.floor(n/2)\n",
    "        \n",
    "        arr1 = arr[:midd]\n",
    "        arr2 = arr[midd+1:]\n",
    "        \n",
    "        merge_sort(arr1)\n",
    "        merge_sort(arr2)\n",
    "        \n",
    "        i = j = k = 0\n",
    "        while i < len(arr1) and j < len(arr2):\n",
    "            if arr1[i] < arr2[j]:\n",
    "                arr[k] = arr1[i]\n",
    "                i += 1\n",
    "            else:\n",
    "                arr[k] = arr1[j]\n",
    "                j += 1\n",
    "            k += 1\n",
    "            \n",
    "        # Checking if any element was left\n",
    "        while i < len(arr1):\n",
    "            arr[k] = arr1[i]\n",
    "            i += 1\n",
    "            k += 1\n",
    "  \n",
    "        while j < len(arr2):\n",
    "            arr[k] = arr2[j]\n",
    "            j += 1\n",
    "            k += 1\n",
    "            \n",
    "    return A\n",
    "    "
   ]
  },
  {
   "cell_type": "code",
   "execution_count": 21,
   "metadata": {},
   "outputs": [
    {
     "data": {
      "text/plain": [
       "[0, 2, 2, 30, 33, 33]"
      ]
     },
     "execution_count": 21,
     "metadata": {},
     "output_type": "execute_result"
    }
   ],
   "source": [
    "A = [30, 22, 33, 2, 1, 0]\n",
    "merge_sort(A)"
   ]
  },
  {
   "cell_type": "code",
   "execution_count": 24,
   "metadata": {},
   "outputs": [],
   "source": [
    "def mergeSort(arr):\n",
    "    if len(arr) > 1:\n",
    "  \n",
    "         # Finding the mid of the array\n",
    "        mid = len(arr)//2\n",
    "  \n",
    "        # Dividing the array elements\n",
    "        L = arr[:mid]\n",
    "  \n",
    "        # into 2 halves\n",
    "        R = arr[mid:]\n",
    "  \n",
    "        # Sorting the first half\n",
    "        mergeSort(L)\n",
    "  \n",
    "        # Sorting the second half\n",
    "        mergeSort(R)\n",
    "  \n",
    "        i = j = k = 0\n",
    "  \n",
    "        # Copy data to temp arrays L[] and R[]\n",
    "        while i < len(L) and j < len(R):\n",
    "            if L[i] < R[j]:\n",
    "                arr[k] = L[i]\n",
    "                i += 1\n",
    "            else:\n",
    "                arr[k] = R[j]\n",
    "                j += 1\n",
    "            k += 1\n",
    "  \n",
    "        # Checking if any element was left\n",
    "        while i < len(L):\n",
    "            arr[k] = L[i]\n",
    "            i += 1\n",
    "            k += 1\n",
    "  \n",
    "        while j < len(R):\n",
    "            arr[k] = R[j]\n",
    "            j += 1\n",
    "            k += 1\n",
    "            \n",
    "    return A"
   ]
  },
  {
   "cell_type": "code",
   "execution_count": 25,
   "metadata": {},
   "outputs": [
    {
     "data": {
      "text/plain": [
       "[0, 2, 2, 30, 33, 33]"
      ]
     },
     "execution_count": 25,
     "metadata": {},
     "output_type": "execute_result"
    }
   ],
   "source": [
    "mergeSort(A)"
   ]
  },
  {
   "cell_type": "markdown",
   "metadata": {},
   "source": [
    "# Greedy Algorithms\n",
    "\n",
    "Greedy algorithms are charecterized by their feature that they always chose the option which is \"best\" at the moment. That could be a choice which maximizes profit or minimizes the cost. <br/> They tend to yield fast running times however are not applicable to many problems. <br/>\n",
    "We are going to show some of the most popular problems which can be solved with a greedy algorithm."
   ]
  },
  {
   "cell_type": "markdown",
   "metadata": {},
   "source": [
    "### Light bulb problem "
   ]
  },
  {
   "cell_type": "markdown",
   "metadata": {},
   "source": [
    "You are given a set A of n bulbs and each bulb can be either 0 (off) or 1 (on). When the ith bulb is turned on, it causes all of the bulbs on the right to be flipped. Find the mininum number of required switches to turn all bulbs on."
   ]
  },
  {
   "cell_type": "markdown",
   "metadata": {},
   "source": [
    "We have the following constraints: <br/>\n",
    "    1) A[i] = {0,1} <br/>\n",
    "    2) 1 =< n =< 1e5"
   ]
  },
  {
   "cell_type": "code",
   "execution_count": 20,
   "metadata": {},
   "outputs": [],
   "source": [
    "#parameter A is a list of integers\n",
    "def light_bulbs(A):\n",
    "    cost = 0\n",
    "        \n",
    "    for i in A:\n",
    "        if cost%2 == 0: \n",
    "            i = i\n",
    "            \n",
    "        else:\n",
    "            i = not i\n",
    "            \n",
    "        if i%2 == 1:\n",
    "            continue\n",
    "            \n",
    "        else:\n",
    "             cost += 1\n",
    "                \n",
    "    return cost"
   ]
  },
  {
   "cell_type": "code",
   "execution_count": 21,
   "metadata": {},
   "outputs": [
    {
     "data": {
      "text/plain": [
       "5"
      ]
     },
     "execution_count": 21,
     "metadata": {},
     "output_type": "execute_result"
    }
   ],
   "source": [
    "light_bulbs([1,0,1,0,1,0])"
   ]
  },
  {
   "cell_type": "markdown",
   "metadata": {},
   "source": [
    "### Highest product of 3 elements \n",
    "Given an array of N elements find the highest possible product of 3 elements"
   ]
  },
  {
   "cell_type": "code",
   "execution_count": 19,
   "metadata": {},
   "outputs": [
    {
     "data": {
      "text/plain": [
       "240"
      ]
     },
     "execution_count": 19,
     "metadata": {},
     "output_type": "execute_result"
    }
   ],
   "source": [
    "def highest_product(A):\n",
    "    A = sorted(A)\n",
    "    \n",
    "    high3_product = A[-1]*A[-2]*A[-3]\n",
    "    low2_product = A[0]*A[1]*A[-1]\n",
    "    \n",
    "    answer = max(high3_product, low2_product)\n",
    "    \n",
    "    return answer\n",
    "\n",
    "highest_product([12,-1,5,0,4,-4,-1])"
   ]
  }
 ],
 "metadata": {
  "kernelspec": {
   "display_name": "Python 3",
   "language": "python",
   "name": "python3"
  },
  "language_info": {
   "codemirror_mode": {
    "name": "ipython",
    "version": 3
   },
   "file_extension": ".py",
   "mimetype": "text/x-python",
   "name": "python",
   "nbconvert_exporter": "python",
   "pygments_lexer": "ipython3",
   "version": "3.7.0"
  }
 },
 "nbformat": 4,
 "nbformat_minor": 2
}
